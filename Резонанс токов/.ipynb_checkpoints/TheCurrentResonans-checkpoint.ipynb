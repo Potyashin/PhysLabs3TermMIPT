{
 "cells": [
  {
   "cell_type": "code",
   "execution_count": 55,
   "metadata": {},
   "outputs": [],
   "source": [
    "from math import pi\n",
    "import pandas as pd\n",
    "import matplotlib as mpl\n",
    "import matplotlib.pyplot as plt\n",
    "import numpy as np\n",
    "from scipy.interpolate import interp1d\n",
    "%matplotlib inline\n",
    "name = \"point1.csv\"\n",
    "R = 1.43 # Ом, сопротивление катушки\n",
    "L_1 = 68.9 # мГн, при 1 кГц\n",
    "R_1 = 33.0 # Ом, при 1 кГц\n",
    "L_100 = 72.9 # мГн, при 100 Гц\n",
    "R_100 = 2.5 # ом, при 100 Гц\n",
    "v0 = 50 # Гц\n",
    "U = 10 # В"
   ]
  },
  {
   "cell_type": "markdown",
   "metadata": {},
   "source": [
    "При постоянном напряжении $U$ снимим зависимости $I$, $I_L$ и $I_C$ от координаты сердечника."
   ]
  },
  {
   "cell_type": "code",
   "execution_count": 56,
   "metadata": {},
   "outputs": [
    {
     "data": {
      "text/html": [
       "<div>\n",
       "<style scoped>\n",
       "    .dataframe tbody tr th:only-of-type {\n",
       "        vertical-align: middle;\n",
       "    }\n",
       "\n",
       "    .dataframe tbody tr th {\n",
       "        vertical-align: top;\n",
       "    }\n",
       "\n",
       "    .dataframe thead th {\n",
       "        text-align: right;\n",
       "    }\n",
       "</style>\n",
       "<table border=\"1\" class=\"dataframe\">\n",
       "  <thead>\n",
       "    <tr style=\"text-align: right;\">\n",
       "      <th></th>\n",
       "      <th>x, $см$</th>\n",
       "      <th>$I$, А</th>\n",
       "      <th>$I_L$, А</th>\n",
       "      <th>$I_C$, А</th>\n",
       "    </tr>\n",
       "  </thead>\n",
       "  <tbody>\n",
       "    <tr>\n",
       "      <th>0</th>\n",
       "      <td>0.0</td>\n",
       "      <td>0.290</td>\n",
       "      <td>0.18</td>\n",
       "      <td>0.46</td>\n",
       "    </tr>\n",
       "    <tr>\n",
       "      <th>1</th>\n",
       "      <td>1.0</td>\n",
       "      <td>0.255</td>\n",
       "      <td>0.21</td>\n",
       "      <td>0.47</td>\n",
       "    </tr>\n",
       "    <tr>\n",
       "      <th>2</th>\n",
       "      <td>2.0</td>\n",
       "      <td>0.220</td>\n",
       "      <td>0.24</td>\n",
       "      <td>0.47</td>\n",
       "    </tr>\n",
       "    <tr>\n",
       "      <th>3</th>\n",
       "      <td>3.0</td>\n",
       "      <td>0.175</td>\n",
       "      <td>0.26</td>\n",
       "      <td>0.46</td>\n",
       "    </tr>\n",
       "    <tr>\n",
       "      <th>4</th>\n",
       "      <td>4.0</td>\n",
       "      <td>0.135</td>\n",
       "      <td>0.31</td>\n",
       "      <td>0.47</td>\n",
       "    </tr>\n",
       "    <tr>\n",
       "      <th>5</th>\n",
       "      <td>5.0</td>\n",
       "      <td>0.050</td>\n",
       "      <td>0.35</td>\n",
       "      <td>0.47</td>\n",
       "    </tr>\n",
       "    <tr>\n",
       "      <th>6</th>\n",
       "      <td>6.0</td>\n",
       "      <td>0.000</td>\n",
       "      <td>0.41</td>\n",
       "      <td>0.48</td>\n",
       "    </tr>\n",
       "    <tr>\n",
       "      <th>7</th>\n",
       "      <td>7.0</td>\n",
       "      <td>0.000</td>\n",
       "      <td>0.47</td>\n",
       "      <td>0.48</td>\n",
       "    </tr>\n",
       "    <tr>\n",
       "      <th>8</th>\n",
       "      <td>8.0</td>\n",
       "      <td>0.000</td>\n",
       "      <td>0.54</td>\n",
       "      <td>0.47</td>\n",
       "    </tr>\n",
       "    <tr>\n",
       "      <th>9</th>\n",
       "      <td>9.0</td>\n",
       "      <td>0.165</td>\n",
       "      <td>0.63</td>\n",
       "      <td>0.47</td>\n",
       "    </tr>\n",
       "    <tr>\n",
       "      <th>10</th>\n",
       "      <td>10.0</td>\n",
       "      <td>0.275</td>\n",
       "      <td>0.72</td>\n",
       "      <td>0.47</td>\n",
       "    </tr>\n",
       "    <tr>\n",
       "      <th>11</th>\n",
       "      <td>10.5</td>\n",
       "      <td>0.350</td>\n",
       "      <td>0.80</td>\n",
       "      <td>0.45</td>\n",
       "    </tr>\n",
       "  </tbody>\n",
       "</table>\n",
       "</div>"
      ],
      "text/plain": [
       "    x, $см$  $I$, А  $I_L$, А  $I_C$, А\n",
       "0       0.0   0.290      0.18      0.46\n",
       "1       1.0   0.255      0.21      0.47\n",
       "2       2.0   0.220      0.24      0.47\n",
       "3       3.0   0.175      0.26      0.46\n",
       "4       4.0   0.135      0.31      0.47\n",
       "5       5.0   0.050      0.35      0.47\n",
       "6       6.0   0.000      0.41      0.48\n",
       "7       7.0   0.000      0.47      0.48\n",
       "8       8.0   0.000      0.54      0.47\n",
       "9       9.0   0.165      0.63      0.47\n",
       "10     10.0   0.275      0.72      0.47\n",
       "11     10.5   0.350      0.80      0.45"
      ]
     },
     "execution_count": 56,
     "metadata": {},
     "output_type": "execute_result"
    }
   ],
   "source": [
    "file = pd.read_csv(name)\n",
    "file = file.T\n",
    "file = file.drop(['I1', 'Unnamed: 5', 'Unnamed: 6'])\n",
    "file = file.T\n",
    "for col in file.columns:\n",
    "    file[col] = [np.float64(i) for i in file[col]]\n",
    "file"
   ]
  },
  {
   "cell_type": "code",
   "execution_count": 57,
   "metadata": {},
   "outputs": [
    {
     "data": {
      "image/png": "[encoded data removed]",
      "text/plain": [
       "<Figure size 720x432 with 1 Axes>"
      ]
     },
     "metadata": {
      "needs_background": "light"
     },
     "output_type": "display_data"
    }
   ],
   "source": [
    "# График 1\n",
    "x = np.array(file['x, $см$'])  # x\n",
    "y1 = np.array(file['$I$, А'])  # I\n",
    "y2 = np.array(file['$I_L$, А'])  # I_L\n",
    "y3 = np.array(file['$I_C$, А'])  # I_C\n",
    "\n",
    "'''# Рассчёт погрешностей сдвига\n",
    "x_0 = np.array([3.4, 3.4, 3.4, 3.4, 3.4, 3.4, 3.4, 3.4])\n",
    "x_x = np.array([1.8, 1.6, 1.5, 1.4, 1.2, 1.0, 0.8, 0.6])\n",
    "x_error = 0.1  # Погрешность измерения\n",
    "y_errors = np.array([(k * ((x_error/i)**2 + (x_error/j)**2)**0.5).round(2) for i, j, k in zip(x_0, x_x, y)])'''\n",
    "\n",
    "fig = plt.figure(figsize=(10, 6))  # (Размер графика)\n",
    "plt.title('Рис 1. Зависимость токов от смещения сердечника', fontsize=20)\n",
    "plt.xlabel('x, $см$', fontdict=dict(size=16))\n",
    "plt.ylabel('$I$, А', fontdict=dict(size=16))\n",
    "plt.grid(True)  # сетка\n",
    "\n",
    "plt.plot(x, y1, label='$I$');\n",
    "plt.plot(x, y2, label='$I_L$');\n",
    "plt.plot(x, y3, label='$I_C$');\n",
    "\n",
    "# Вывести легенду\n",
    "plt.legend(\n",
    "    loc='upper left',\n",
    "    borderaxespad=5,\n",
    "    prop={'size': 13}\n",
    ")\n",
    "\n",
    "plt.show()"
   ]
  },
  {
   "cell_type": "code",
   "execution_count": 73,
   "metadata": {},
   "outputs": [
    {
     "name": "stdout",
     "output_type": "stream",
     "text": [
      "Добротность контура: 9.161\n",
      "Сопротивление при резонансе: 1.43\n"
     ]
    }
   ],
   "source": [
    "p = np.float64(2 * pi * v0 * L_100 / 1000)\n",
    "Q = np.float64(p/R_100)\n",
    "R_res = Q * p\n",
    "print('Добротность контура:', Q.round(3))\n",
    "print(\"Сопротивление при резонансе:\", R)"
   ]
  },
  {
   "cell_type": "code",
   "execution_count": 72,
   "metadata": {},
   "outputs": [
    {
     "name": "stdout",
     "output_type": "stream",
     "text": [
      "Индуктивность при резонансе:  67.73 мГн\n"
     ]
    }
   ],
   "source": [
    "L_r = U/(2*pi*v0*y2[7]) * 1000\n",
    "print('Индуктивность при резонансе: ', L_r.round(2), 'мГн')"
   ]
  }
 ],
 "metadata": {
  "kernelspec": {
   "display_name": "Python 3",
   "language": "python",
   "name": "python3"
  },
  "language_info": {
   "codemirror_mode": {
    "name": "ipython",
    "version": 3
   },
   "file_extension": ".py",
   "mimetype": "text/x-python",
   "name": "python",
   "nbconvert_exporter": "python",
   "pygments_lexer": "ipython3",
   "version": "3.7.1"
  }
 },
 "nbformat": 4,
 "nbformat_minor": 4
}

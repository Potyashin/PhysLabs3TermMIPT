{
 "cells": [
  {
   "cell_type": "markdown",
   "metadata": {},
   "source": [
    "# <center>Лабораторная работа 4.8А. Резонанс Токов</center>"
   ]
  },
  {
   "cell_type": "markdown",
   "metadata": {},
   "source": [
    "## Введение и краткая теория"
   ]
  },
  {
   "cell_type": "markdown",
   "metadata": {},
   "source": [
    "В данной работе изучается резонанс токов в колебательном контуре.  Предлагается снять при постоянном напряжении $U$ зависимости токов $I_L$ , $I_C$ и полного тока I от индуктивности катушки $L$ (глубины погружения сердечника), а также определить резонансные характеристики контура: полное сопротивление $R_{рез}$, добротность $Q$, активное сопротивление $r_L$ и индуктивность катушки $L$\n",
    "\n",
    "В приципе, колебательный контура описывается одним уравнением  \n",
    "$L\\large \\frac{d^2I}{dt^2} + \\normalsize R\\large \\frac{dI}{dt} + \\large \\frac{I}{C} = -\\normalsize \\mathscr{E}\\Omega sin\\Omega t$,  \n",
    "из которого с помощью метода комплексных амплитуд можно получить все необходимые нам формулы для определения резонансных характеристик контура (естественно, при резонансном токе):  \n",
    "$Q = \\large \\frac{\\rho}{r_L}$, где $\\rho = \\omega_0 L = \\large \\frac{1}{\\omega_0 C} = \\frac{\\overline{L}}{C}$  \n",
    "$R_{рез} = Q \\cdot \\rho$  \n",
    "$I_{L, рез} = \\large \\frac{U_0}{\\omega_0 L} = \\frac{U_0}{\\rho}$  \n",
    "$I_{C, рез} = U_0 \\omega_0 C = \\large \\frac{U_0}{\\rho}$  \n",
    "$I_{рез} = \\large \\frac{U_0}{Q \\rho}$\n"
   ]
  },
  {
   "cell_type": "markdown",
   "metadata": {},
   "source": [
    "## Установка"
   ]
  },
  {
   "cell_type": "markdown",
   "metadata": {},
   "source": [
    "<img src=\"pic.jpg\"\n",
    "     alt=\"Markdown Monster icon\"\n",
    "     style=\"float: left; margin-right: 15px;\" />"
   ]
  },
  {
   "cell_type": "markdown",
   "metadata": {},
   "source": [
    "Схема экспериментальной установки приведена на рис. 1. Напряжение от сети (220 В, 50 Гц) с помощью ЛАТРа через понижающий трансформатор Тр подаётся на параллельный контур, содержащий конденсатор ($C$ = 120 мкФ) и катушку, индуктивность которой зависит от глубины погружения сердечника. Полный ток\n",
    "в цепи измеряется с помощью многопредельного амперметра $A1$; для измерения токов в $L$- и $C$-ветвях используются два одинаковых амперметра\n",
    "$A2$ и $A3$; напряжение на контуре контролируется электронным вольтметром $V$ . Последовательно с контуром включён резистор $r$ — реостат с полным сопротивлением $\\approx$ 100 Ом"
   ]
  },
  {
   "cell_type": "markdown",
   "metadata": {},
   "source": [
    "## Ход работы"
   ]
  },
  {
   "cell_type": "markdown",
   "metadata": {},
   "source": [
    "Построим на одном графике зависимости $I$, $I_L$ и $I_C$ от индуктивночти (т.е. положения сердечника $x$) (График 1)"
   ]
  },
  {
   "cell_type": "code",
   "execution_count": 8,
   "metadata": {},
   "outputs": [],
   "source": [
    "from math import pi\n",
    "import pandas as pd\n",
    "import matplotlib as mpl\n",
    "import matplotlib.pyplot as plt\n",
    "import numpy as np\n",
    "from scipy.interpolate import interp1d\n",
    "%matplotlib inline"
   ]
  },
  {
   "cell_type": "markdown",
   "metadata": {},
   "source": [
    "## Заключение и выводы"
   ]
  },
  {
   "cell_type": "markdown",
   "metadata": {},
   "source": [
    "Мы поели говна не так сильно, как обычно  \n",
    "Лабораторная работа выполнена студентами ~~ФИВТ~~ ФПМИ: Ваня Потяшин и Илья Ярлыков, Б05-814."
   ]
  },
  {
   "cell_type": "code",
   "execution_count": null,
   "metadata": {},
   "outputs": [],
   "source": []
  }
 ],
 "metadata": {
  "kernelspec": {
   "display_name": "Python 3",
   "language": "python",
   "name": "python3"
  },
  "language_info": {
   "codemirror_mode": {
    "name": "ipython",
    "version": 3
   },
   "file_extension": ".py",
   "mimetype": "text/x-python",
   "name": "python",
   "nbconvert_exporter": "python",
   "pygments_lexer": "ipython3",
   "version": "3.7.3"
  }
 },
 "nbformat": 4,
 "nbformat_minor": 4
}

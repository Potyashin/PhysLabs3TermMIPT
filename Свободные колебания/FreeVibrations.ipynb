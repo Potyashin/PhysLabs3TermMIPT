{
 "cells": [
  {
   "cell_type": "code",
   "execution_count": 115,
   "metadata": {},
   "outputs": [],
   "source": [
    "from math import pi\n",
    "import pandas as pd\n",
    "import matplotlib as mpl\n",
    "import matplotlib.pyplot as plt\n",
    "import numpy as np\n",
    "import math\n",
    "from scipy.interpolate import interp1d\n",
    "%matplotlib inline"
   ]
  },
  {
   "cell_type": "code",
   "execution_count": 116,
   "metadata": {},
   "outputs": [],
   "source": [
    "# Константы\n",
    "L_1000 = np.float64(132.87) # мГн\n",
    "R_1000 = np.float64(13.491) # Ом\n",
    "T0 = np.float64(0.01) # с\n",
    "pi = np.float(3.14)"
   ]
  },
  {
   "cell_type": "code",
   "execution_count": 117,
   "metadata": {},
   "outputs": [],
   "source": [
    "def open_csv(name):\n",
    "    file = pd.read_csv(name)\n",
    "    file = file.drop(0)\n",
    "    for col in file.columns:\n",
    "        file[col] = [i if type(i) != type('a') else np.float64('.'.join(i.split(','))) for i in file[col]]\n",
    "        file[col] = [np.float64(i) for i in file[col]]\n",
    "    return file"
   ]
  },
  {
   "cell_type": "code",
   "execution_count": 118,
   "metadata": {},
   "outputs": [
    {
     "data": {
      "text/html": [
       "<div>\n",
       "<style scoped>\n",
       "    .dataframe tbody tr th:only-of-type {\n",
       "        vertical-align: middle;\n",
       "    }\n",
       "\n",
       "    .dataframe tbody tr th {\n",
       "        vertical-align: top;\n",
       "    }\n",
       "\n",
       "    .dataframe thead th {\n",
       "        text-align: right;\n",
       "    }\n",
       "</style>\n",
       "<table border=\"1\" class=\"dataframe\">\n",
       "  <thead>\n",
       "    <tr style=\"text-align: right;\">\n",
       "      <th></th>\n",
       "      <th>$C$, мкф</th>\n",
       "      <th>$x_0$, дел</th>\n",
       "      <th>$x$, дел</th>\n",
       "      <th>$n$</th>\n",
       "      <th>$T$, с</th>\n",
       "      <th>$T_{теор}$, с</th>\n",
       "    </tr>\n",
       "  </thead>\n",
       "  <tbody>\n",
       "    <tr>\n",
       "      <th>1</th>\n",
       "      <td>0.1</td>\n",
       "      <td>6.4</td>\n",
       "      <td>0.9</td>\n",
       "      <td>2.0</td>\n",
       "      <td>0.000703</td>\n",
       "      <td>0.000724</td>\n",
       "    </tr>\n",
       "    <tr>\n",
       "      <th>2</th>\n",
       "      <td>0.2</td>\n",
       "      <td>6.4</td>\n",
       "      <td>0.6</td>\n",
       "      <td>1.0</td>\n",
       "      <td>0.000937</td>\n",
       "      <td>0.001024</td>\n",
       "    </tr>\n",
       "    <tr>\n",
       "      <th>3</th>\n",
       "      <td>0.3</td>\n",
       "      <td>6.2</td>\n",
       "      <td>3.0</td>\n",
       "      <td>4.0</td>\n",
       "      <td>0.001210</td>\n",
       "      <td>0.001254</td>\n",
       "    </tr>\n",
       "    <tr>\n",
       "      <th>4</th>\n",
       "      <td>0.4</td>\n",
       "      <td>6.2</td>\n",
       "      <td>3.6</td>\n",
       "      <td>4.0</td>\n",
       "      <td>0.001452</td>\n",
       "      <td>0.001448</td>\n",
       "    </tr>\n",
       "    <tr>\n",
       "      <th>5</th>\n",
       "      <td>0.5</td>\n",
       "      <td>6.2</td>\n",
       "      <td>4.8</td>\n",
       "      <td>5.0</td>\n",
       "      <td>0.001548</td>\n",
       "      <td>0.001619</td>\n",
       "    </tr>\n",
       "    <tr>\n",
       "      <th>6</th>\n",
       "      <td>0.6</td>\n",
       "      <td>6.2</td>\n",
       "      <td>5.2</td>\n",
       "      <td>5.0</td>\n",
       "      <td>0.001677</td>\n",
       "      <td>0.001773</td>\n",
       "    </tr>\n",
       "    <tr>\n",
       "      <th>7</th>\n",
       "      <td>0.7</td>\n",
       "      <td>6.2</td>\n",
       "      <td>4.6</td>\n",
       "      <td>4.0</td>\n",
       "      <td>0.001855</td>\n",
       "      <td>0.001915</td>\n",
       "    </tr>\n",
       "    <tr>\n",
       "      <th>8</th>\n",
       "      <td>0.8</td>\n",
       "      <td>6.2</td>\n",
       "      <td>4.8</td>\n",
       "      <td>4.0</td>\n",
       "      <td>0.001935</td>\n",
       "      <td>0.002047</td>\n",
       "    </tr>\n",
       "    <tr>\n",
       "      <th>9</th>\n",
       "      <td>0.9</td>\n",
       "      <td>6.2</td>\n",
       "      <td>5.2</td>\n",
       "      <td>4.0</td>\n",
       "      <td>0.002097</td>\n",
       "      <td>0.002172</td>\n",
       "    </tr>\n",
       "  </tbody>\n",
       "</table>\n",
       "</div>"
      ],
      "text/plain": [
       "   $C$, мкф  $x_0$, дел  $x$, дел  $n$    $T$, с  $T_{теор}$, с\n",
       "1       0.1         6.4       0.9  2.0  0.000703       0.000724\n",
       "2       0.2         6.4       0.6  1.0  0.000937       0.001024\n",
       "3       0.3         6.2       3.0  4.0  0.001210       0.001254\n",
       "4       0.4         6.2       3.6  4.0  0.001452       0.001448\n",
       "5       0.5         6.2       4.8  5.0  0.001548       0.001619\n",
       "6       0.6         6.2       5.2  5.0  0.001677       0.001773\n",
       "7       0.7         6.2       4.6  4.0  0.001855       0.001915\n",
       "8       0.8         6.2       4.8  4.0  0.001935       0.002047\n",
       "9       0.9         6.2       5.2  4.0  0.002097       0.002172"
      ]
     },
     "execution_count": 118,
     "metadata": {},
     "output_type": "execute_result"
    }
   ],
   "source": [
    "table1 = open_csv(\"point1.csv\")\n",
    "table1['$T_{теор}$, с'] = 2*pi*(L_1000 / 1000 * table1[table1.columns[0]] / 1000000)**0.5\n",
    "table1"
   ]
  },
  {
   "cell_type": "code",
   "execution_count": 119,
   "metadata": {},
   "outputs": [
    {
     "data": {
      "image/png": "[encoded data removed]",
      "text/plain": [
       "<Figure size 432x288 with 1 Axes>"
      ]
     },
     "metadata": {
      "needs_background": "light"
     },
     "output_type": "display_data"
    }
   ],
   "source": [
    "plt.plot(table1[table1.columns[5]], table1[table1.columns[4]])\n",
    "plt.scatter(table1[table1.columns[5]], table1[table1.columns[4]], color='r')\n",
    "plt.show()"
   ]
  },
  {
   "cell_type": "code",
   "execution_count": 120,
   "metadata": {},
   "outputs": [
    {
     "data": {
      "text/html": [
       "<div>\n",
       "<style scoped>\n",
       "    .dataframe tbody tr th:only-of-type {\n",
       "        vertical-align: middle;\n",
       "    }\n",
       "\n",
       "    .dataframe tbody tr th {\n",
       "        vertical-align: top;\n",
       "    }\n",
       "\n",
       "    .dataframe thead th {\n",
       "        text-align: right;\n",
       "    }\n",
       "</style>\n",
       "<table border=\"1\" class=\"dataframe\">\n",
       "  <thead>\n",
       "    <tr style=\"text-align: right;\">\n",
       "      <th></th>\n",
       "      <th>$R$, Ом</th>\n",
       "      <th>$U_k$</th>\n",
       "      <th>$U_{k+n}$</th>\n",
       "      <th>$n$</th>\n",
       "      <th>$R_{конт}$, Ом</th>\n",
       "      <th>$\\Theta$</th>\n",
       "    </tr>\n",
       "  </thead>\n",
       "  <tbody>\n",
       "    <tr>\n",
       "      <th>1</th>\n",
       "      <td>250.0</td>\n",
       "      <td>3.6</td>\n",
       "      <td>0.6</td>\n",
       "      <td>6.0</td>\n",
       "      <td>263.491</td>\n",
       "      <td>0.298627</td>\n",
       "    </tr>\n",
       "    <tr>\n",
       "      <th>2</th>\n",
       "      <td>300.0</td>\n",
       "      <td>3.6</td>\n",
       "      <td>0.4</td>\n",
       "      <td>6.0</td>\n",
       "      <td>313.491</td>\n",
       "      <td>0.366204</td>\n",
       "    </tr>\n",
       "    <tr>\n",
       "      <th>3</th>\n",
       "      <td>350.0</td>\n",
       "      <td>3.6</td>\n",
       "      <td>0.3</td>\n",
       "      <td>6.0</td>\n",
       "      <td>363.491</td>\n",
       "      <td>0.414151</td>\n",
       "    </tr>\n",
       "    <tr>\n",
       "      <th>4</th>\n",
       "      <td>400.0</td>\n",
       "      <td>3.6</td>\n",
       "      <td>0.2</td>\n",
       "      <td>6.0</td>\n",
       "      <td>413.491</td>\n",
       "      <td>0.481729</td>\n",
       "    </tr>\n",
       "    <tr>\n",
       "      <th>5</th>\n",
       "      <td>450.0</td>\n",
       "      <td>3.6</td>\n",
       "      <td>0.2</td>\n",
       "      <td>6.0</td>\n",
       "      <td>463.491</td>\n",
       "      <td>0.481729</td>\n",
       "    </tr>\n",
       "    <tr>\n",
       "      <th>6</th>\n",
       "      <td>500.0</td>\n",
       "      <td>3.6</td>\n",
       "      <td>0.2</td>\n",
       "      <td>5.0</td>\n",
       "      <td>513.491</td>\n",
       "      <td>0.578074</td>\n",
       "    </tr>\n",
       "    <tr>\n",
       "      <th>7</th>\n",
       "      <td>550.0</td>\n",
       "      <td>4.6</td>\n",
       "      <td>0.6</td>\n",
       "      <td>3.0</td>\n",
       "      <td>563.491</td>\n",
       "      <td>0.678961</td>\n",
       "    </tr>\n",
       "  </tbody>\n",
       "</table>\n",
       "</div>"
      ],
      "text/plain": [
       "   $R$, Ом  $U_k$  $U_{k+n}$  $n$  $R_{конт}$, Ом  $\\Theta$\n",
       "1    250.0    3.6        0.6  6.0         263.491  0.298627\n",
       "2    300.0    3.6        0.4  6.0         313.491  0.366204\n",
       "3    350.0    3.6        0.3  6.0         363.491  0.414151\n",
       "4    400.0    3.6        0.2  6.0         413.491  0.481729\n",
       "5    450.0    3.6        0.2  6.0         463.491  0.481729\n",
       "6    500.0    3.6        0.2  5.0         513.491  0.578074\n",
       "7    550.0    4.6        0.6  3.0         563.491  0.678961"
      ]
     },
     "execution_count": 120,
     "metadata": {},
     "output_type": "execute_result"
    }
   ],
   "source": [
    "table2 = open_csv(\"point2.csv\")\n",
    "table2['$R_{конт}$, Ом'] = table2[table2.columns[0]] + R_1000\n",
    "table2[r'$\\Theta$'] = (table2[table2.columns[1]] / table2[table2.columns[2]])\n",
    "table2[r'$\\Theta$'] = table2[r'$\\Theta$'].apply(math.log)\n",
    "table2[r'$\\Theta$'] = table2[r'$\\Theta$'] / table2[table2.columns[3]]\n",
    "table2"
   ]
  },
  {
   "cell_type": "code",
   "execution_count": 124,
   "metadata": {},
   "outputs": [
    {
     "data": {
      "image/png": "[encoded data removed]",
      "text/plain": [
       "<Figure size 432x288 with 1 Axes>"
      ]
     },
     "metadata": {
      "needs_background": "light"
     },
     "output_type": "display_data"
    }
   ],
   "source": [
    "x = np.array(1/table2[table2.columns[4]]**2)\n",
    "y = np.array(1/table2[table2.columns[5]]**2)\n",
    "\n",
    "# Прямая по МНК\n",
    "A = np.vstack([x, np.ones(len(x))]).T\n",
    "a, b = np.linalg.lstsq(A, y, rcond=None)[0]\n",
    "x_extr = np.linspace(0.97* x.min(), x.max(), 10)\n",
    "# a - коэффициент наклона прямой, b - свободный член\n",
    "plt.plot(x_extr, a*x_extr + b, 'r', label='Приближающая прямая')\n",
    "plt.scatter(x,y)\n",
    "        \n",
    "#Определим погрешности коэффициентов a и b для 1 графика\n",
    "x_avg = np.average(x)\n",
    "y_avg = np.average(y)\n",
    "x_sqr_avg = np.average([i**2 for i in x])\n",
    "y_sqr_avg = np.average([i**2 for i in y])\n",
    "a_err = (((y_sqr_avg - y_avg**2)/(x_sqr_avg - x_avg**2) - a**2)/len(x))**0.5\n",
    "b_err = a_err * (x_sqr_avg - x_avg**2)**0.5\n",
    "plt.show()"
   ]
  },
  {
   "cell_type": "code",
   "execution_count": 125,
   "metadata": {},
   "outputs": [
    {
     "name": "stdout",
     "output_type": "stream",
     "text": [
      "Критическое сопротивление:\n",
      "Теоретическое: 5.12 кОм\n",
      "Экспериментальное: 5.47 кОм\n"
     ]
    }
   ],
   "source": [
    "R_kr = 2 * pi * a ** 0.5 / 1000\n",
    "R_kr_t = 2 * pi * (L_1000 * 1000 / table1[table1.columns[0]][2]) ** 0.5 / 1000\n",
    "print('Критическое сопротивление:')\n",
    "print('Теоретическое:', R_kr_t.round(2), 'кОм')\n",
    "print('Экспериментальное:', R_kr.round(2), 'кОм')"
   ]
  },
  {
   "cell_type": "code",
   "execution_count": 126,
   "metadata": {},
   "outputs": [
    {
     "name": "stdout",
     "output_type": "stream",
     "text": [
      "Добротность при минимальном логарифмическом дикременте затухания:\n",
      "Теоретическая: 4.61\n",
      "Экспериментальная: 10.51\n",
      "Добротность при максимальном логарифмическом дикременте затухания:\n",
      "Теоретическая: 0.79\n",
      "Экспериментальная: 4.62\n"
     ]
    }
   ],
   "source": [
    "Q_max = np.float64(pi / table2[table2.columns[5]][1])\n",
    "Q_max_t = np.float64((1000 * L_1000 / table1[table1.columns[0]][1])**0.5 / table2[table2.columns[0]][1])\n",
    "Q_min = np.float64(pi / table2[table2.columns[5]][7])\n",
    "Q_min_t = np.float64((1000 * L_1000 / table1[table1.columns[0]][7])**0.5 / table2[table2.columns[0]][7])\n",
    "print('Добротность при минимальном логарифмическом дикременте затухания:\\nТеоретическая: {Q_t}\\nЭкспериментальная: {Q}'.format(Q=Q_max.round(2), Q_t=Q_max_t.round(2)))\n",
    "print('Добротность при максимальном логарифмическом дикременте затухания:\\nТеоретическая: {Q_t}\\nЭкспериментальная: {Q}'.format(Q=Q_min.round(2), Q_t=Q_min_t.round(2)))"
   ]
  },
  {
   "cell_type": "code",
   "execution_count": null,
   "metadata": {},
   "outputs": [],
   "source": []
  }
 ],
 "metadata": {
  "kernelspec": {
   "display_name": "Python 3",
   "language": "python",
   "name": "python3"
  },
  "language_info": {
   "codemirror_mode": {
    "name": "ipython",
    "version": 3
   },
   "file_extension": ".py",
   "mimetype": "text/x-python",
   "name": "python",
   "nbconvert_exporter": "python",
   "pygments_lexer": "ipython3",
   "version": "3.7.1"
  }
 },
 "nbformat": 4,
 "nbformat_minor": 4
}

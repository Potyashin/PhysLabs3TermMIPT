{
 "cells": [
  {
   "cell_type": "markdown",
   "metadata": {},
   "source": [
    "# Лабораторная работа 4.15. Закон Кюри-Вейса"
   ]
  },
  {
   "cell_type": "markdown",
   "metadata": {},
   "source": [
    "##  Введение и краткая теория"
   ]
  },
  {
   "cell_type": "markdown",
   "metadata": {},
   "source": [
    "Рассмотрим вещества с отличными от нуля атомными магнитными моментами(парамагнетики). Во внешнем магнитном поле они будут стараться выстроиться вдоль него, но этому будет препятствовать тепловое хаотическое движение частиц. Поэтому логично, что чем больше температура, тем хуже будет вещество реагировать на внешнее МП (то есть магнитная восприимчивость убывает). Убывает по закону, называемому закон Кюри:  \n",
    "<center>$\\chi = \\large \\frac{C}{T}$</center>  \n",
    "Видно, что при $T \\rightarrow$ 0 восприимчивать неограниченно возрастает. То есть это особая точка, когда при сколь угодно малом поле магнитные моменты спокойно выстраиваются по нему.\n",
    "Оказывается, что в ферромагнитах это происходит при понижении температуры не до абсолютного нуля, а до некой $\\theta_p$ (температура, близкая к температуре Кюри):  \n",
    "<center>$\\chi \\sim \\large \\frac{1}{T + \\theta_p}$</center>  \n",
    "И это уже называется Закон Кюри-Вейса. Такая формула хорошо описывает температуры выше неё и не очень при $T \\approx \\theta_p$"
   ]
  },
  {
   "cell_type": "markdown",
   "metadata": {},
   "source": [
    "## Установка"
   ]
  },
  {
   "cell_type": "markdown",
   "metadata": {},
   "source": [
    "<img src=\"pict.jpg\"\n",
    "     alt=\"Markdown Monster icon\"\n",
    "     style=\"float: left; margin-right: 10px;\" />"
   ]
  },
  {
   "cell_type": "markdown",
   "metadata": {},
   "source": [
    "Тут ничего сложного, мы просто с помощью термпары измеряем изменение температуры, а температуру гадолиния изменяем с помощью термостата. Но как же $\\chi$? А вот как! Так как $\\chi \\sim (L - L_0)$ (изменение индуктивности), мы можем, считая период колебаний контура, как раз найте нужное нам:\n",
    "<center>$\\chi \\sim (\\tau^2 - \\tau_{0}^2)$</center>\n",
    "$\\tau$ - период колебаний, который зависит от индуктивности"
   ]
  },
  {
   "cell_type": "markdown",
   "metadata": {},
   "source": [
    "## Ход работы"
   ]
  },
  {
   "cell_type": "markdown",
   "metadata": {},
   "source": [
    "Сняв нужные зависимости и построим график $f(T) = \\large \\frac{1}{\\tau^2 - \\tau_0^2}$, из которого найдём парамагнитную точку Кюри для гадолиния."
   ]
  },
  {
   "cell_type": "code",
   "execution_count": 41,
   "metadata": {
    "jupyter": {
     "source_hidden": true
    }
   },
   "outputs": [],
   "source": [
    "from math import pi\n",
    "import pandas as pd\n",
    "import matplotlib as mpl\n",
    "import matplotlib.pyplot as plt\n",
    "import numpy as np\n",
    "from scipy.interpolate import interp1d\n",
    "%matplotlib inline"
   ]
  },
  {
   "cell_type": "code",
   "execution_count": 42,
   "metadata": {
    "jupyter": {
     "source_hidden": true
    }
   },
   "outputs": [],
   "source": [
    "# Константы\n",
    "dT = np.float64(0.5) # градусов Цельсия\n",
    "k = np.float64(0.024) # град/мкВ\n",
    "t0 = np.float64(9.045) # мкс"
   ]
  },
  {
   "cell_type": "code",
   "execution_count": 43,
   "metadata": {
    "jupyter": {
     "source_hidden": true
    }
   },
   "outputs": [],
   "source": [
    "def open_csv(name):\n",
    "    file = pd.read_csv(name)\n",
    "    file = file.drop(0)\n",
    "    for col in file.columns:\n",
    "        file[col] = [i if type(i) != type('a') else float('.'.join(i.split(','))) for i in file[col]]\n",
    "        file[col] = [np.float64(i) for i in file[col]]\n",
    "    return file"
   ]
  },
  {
   "cell_type": "code",
   "execution_count": 44,
   "metadata": {
    "jupyter": {
     "source_hidden": true
    }
   },
   "outputs": [],
   "source": [
    "def chart(file, name = '', is_extr=False, ind_from = 0, ind_to = 10000, step = 1):\n",
    "    # Строим график\n",
    "    fig = plt.figure(figsize=(10, 6))  # (Размер графика)\n",
    "    plt.title(name, fontsize=16)\n",
    "    plt.grid(True)\n",
    "\n",
    "    plt.xlabel('Температура образца, К', fontdict=dict(size=12))\n",
    "    plt.ylabel(r'$\\tau^2 - \\tau_0^2$, $мкс^2$', fontdict=dict(size=12))\n",
    "    \n",
    "    x = np.array(file[file.columns[0]])  \n",
    "    y = np.array(file[file.columns[1]])\n",
    "    \n",
    "    if (is_extr): # если нужна экстраполяция\n",
    "        \n",
    "        x_for_extr = file[file.columns[0]][ind_from:ind_to:]\n",
    "        y_for_extr = file[file.columns[1]][ind_from:ind_to:]\n",
    "        # Прямая по МНК\n",
    "        A = np.vstack([x_for_extr, np.ones(len(x_for_extr))]).T\n",
    "        a, b = np.linalg.lstsq(A, y_for_extr, rcond=None)[0]\n",
    "        x_extr = np.linspace(0.97* x_for_extr.min(), x_for_extr.max(), 10)\n",
    "        # a - коэффициент наклона прямой, b - свободный член\n",
    "        plt.plot(x_extr, a*x_extr + b, 'r', label='Приближающая прямая')\n",
    "        plt.plot(x,y)\n",
    "        \n",
    "         #Определим погрешности коэффициентов a и b для 1 графика\n",
    "        x_avg = np.average(x_for_extr)\n",
    "        y_avg = np.average(y_for_extr)\n",
    "        x_sqr_avg = np.average([i**2 for i in x_for_extr])\n",
    "        y_sqr_avg = np.average([i**2 for i in y_for_extr])\n",
    "        a_err = (((y_sqr_avg - y_avg**2)/(x_sqr_avg - x_avg**2) - a**2)/len(x_for_extr))**0.5\n",
    "        b_err = a_err * (x_sqr_avg - x_avg**2)**0.5\n",
    "        \n",
    "        return (a, b, a_err, b_err)\n",
    "        \n",
    "    plt.plot(x,y)"
   ]
  },
  {
   "cell_type": "markdown",
   "metadata": {},
   "source": [
    "Оценим допустимую ЭДС образца по формуле $ \\mathscr{E} = \\frac{\\Delta T}{k}$"
   ]
  },
  {
   "cell_type": "code",
   "execution_count": 45,
   "metadata": {
    "jupyter": {
     "source_hidden": true
    }
   },
   "outputs": [
    {
     "name": "stdout",
     "output_type": "stream",
     "text": [
      "Допустимое ЭДС: 20.833 мкВ\n"
     ]
    }
   ],
   "source": [
    "E = np.float64(dT/k)\n",
    "print('Допустимое ЭДС:', E.round(3), 'мкВ')"
   ]
  },
  {
   "cell_type": "markdown",
   "metadata": {},
   "source": [
    "Исследуем зависимость периода колебаний генератора от температуры образца"
   ]
  },
  {
   "cell_type": "code",
   "execution_count": 46,
   "metadata": {
    "jupyter": {
     "source_hidden": true
    }
   },
   "outputs": [
    {
     "data": {
      "text/html": [
       "<div>\n",
       "<style scoped>\n",
       "    .dataframe tbody tr th:only-of-type {\n",
       "        vertical-align: middle;\n",
       "    }\n",
       "\n",
       "    .dataframe tbody tr th {\n",
       "        vertical-align: top;\n",
       "    }\n",
       "\n",
       "    .dataframe thead th {\n",
       "        text-align: right;\n",
       "    }\n",
       "</style>\n",
       "<table border=\"1\" class=\"dataframe\">\n",
       "  <thead>\n",
       "    <tr style=\"text-align: right;\">\n",
       "      <th></th>\n",
       "      <th>$T_0$, К</th>\n",
       "      <th>$U$, мкВ</th>\n",
       "      <th>$\\tau$, мкс</th>\n",
       "    </tr>\n",
       "  </thead>\n",
       "  <tbody>\n",
       "    <tr>\n",
       "      <th>1</th>\n",
       "      <td>289.24</td>\n",
       "      <td>6.0</td>\n",
       "      <td>10.681</td>\n",
       "    </tr>\n",
       "    <tr>\n",
       "      <th>2</th>\n",
       "      <td>291.20</td>\n",
       "      <td>10.0</td>\n",
       "      <td>10.550</td>\n",
       "    </tr>\n",
       "    <tr>\n",
       "      <th>3</th>\n",
       "      <td>293.21</td>\n",
       "      <td>10.0</td>\n",
       "      <td>10.277</td>\n",
       "    </tr>\n",
       "    <tr>\n",
       "      <th>4</th>\n",
       "      <td>295.23</td>\n",
       "      <td>7.0</td>\n",
       "      <td>9.861</td>\n",
       "    </tr>\n",
       "    <tr>\n",
       "      <th>5</th>\n",
       "      <td>297.25</td>\n",
       "      <td>6.0</td>\n",
       "      <td>9.542</td>\n",
       "    </tr>\n",
       "    <tr>\n",
       "      <th>6</th>\n",
       "      <td>299.19</td>\n",
       "      <td>11.0</td>\n",
       "      <td>9.423</td>\n",
       "    </tr>\n",
       "    <tr>\n",
       "      <th>7</th>\n",
       "      <td>301.20</td>\n",
       "      <td>11.0</td>\n",
       "      <td>9.342</td>\n",
       "    </tr>\n",
       "    <tr>\n",
       "      <th>8</th>\n",
       "      <td>303.23</td>\n",
       "      <td>7.0</td>\n",
       "      <td>9.284</td>\n",
       "    </tr>\n",
       "    <tr>\n",
       "      <th>9</th>\n",
       "      <td>305.17</td>\n",
       "      <td>12.0</td>\n",
       "      <td>9.257</td>\n",
       "    </tr>\n",
       "    <tr>\n",
       "      <th>10</th>\n",
       "      <td>307.23</td>\n",
       "      <td>9.0</td>\n",
       "      <td>9.226</td>\n",
       "    </tr>\n",
       "    <tr>\n",
       "      <th>11</th>\n",
       "      <td>309.19</td>\n",
       "      <td>12.0</td>\n",
       "      <td>9.209</td>\n",
       "    </tr>\n",
       "    <tr>\n",
       "      <th>12</th>\n",
       "      <td>311.23</td>\n",
       "      <td>10.0</td>\n",
       "      <td>9.193</td>\n",
       "    </tr>\n",
       "    <tr>\n",
       "      <th>13</th>\n",
       "      <td>313.75</td>\n",
       "      <td>10.0</td>\n",
       "      <td>9.181</td>\n",
       "    </tr>\n",
       "  </tbody>\n",
       "</table>\n",
       "</div>"
      ],
      "text/plain": [
       "    $T_0$, К  $U$, мкВ  $\\tau$, мкс\n",
       "1     289.24       6.0       10.681\n",
       "2     291.20      10.0       10.550\n",
       "3     293.21      10.0       10.277\n",
       "4     295.23       7.0        9.861\n",
       "5     297.25       6.0        9.542\n",
       "6     299.19      11.0        9.423\n",
       "7     301.20      11.0        9.342\n",
       "8     303.23       7.0        9.284\n",
       "9     305.17      12.0        9.257\n",
       "10    307.23       9.0        9.226\n",
       "11    309.19      12.0        9.209\n",
       "12    311.23      10.0        9.193\n",
       "13    313.75      10.0        9.181"
      ]
     },
     "execution_count": 46,
     "metadata": {},
     "output_type": "execute_result"
    }
   ],
   "source": [
    "table1 = open_csv('point.csv')\n",
    "table1[table1.columns[0]] = table1[table1.columns[0]] + 273.15\n",
    "table1"
   ]
  },
  {
   "cell_type": "markdown",
   "metadata": {},
   "source": [
    "Рассчитаем температуру образца $T$, учитывая показания термопары"
   ]
  },
  {
   "cell_type": "code",
   "execution_count": 52,
   "metadata": {},
   "outputs": [],
   "source": [
    "table1['$T$, К'] = [np.float64(x - y * k).round(2) for x, y in zip(table1['$T_0$, К'], table1['$U$, мкВ'])]\n",
    "table1[r'$\\tau^2 - \\tau_0^2$, мкс'] = [np.float64(x**2 - t0**2).round(2) for x in table1[table1.columns[2]]]\n",
    "table2 = pd.DataFrame({'$T$, К': table1['$T$, К'], r'$\\tau^2 - \\tau_0^2$, $мкс^2$': table1[r'$\\tau^2 - \\tau_0^2$, мкс']})"
   ]
  },
  {
   "cell_type": "code",
   "execution_count": 53,
   "metadata": {},
   "outputs": [
    {
     "data": {
      "text/html": [
       "<div>\n",
       "<style scoped>\n",
       "    .dataframe tbody tr th:only-of-type {\n",
       "        vertical-align: middle;\n",
       "    }\n",
       "\n",
       "    .dataframe tbody tr th {\n",
       "        vertical-align: top;\n",
       "    }\n",
       "\n",
       "    .dataframe thead th {\n",
       "        text-align: right;\n",
       "    }\n",
       "</style>\n",
       "<table border=\"1\" class=\"dataframe\">\n",
       "  <thead>\n",
       "    <tr style=\"text-align: right;\">\n",
       "      <th></th>\n",
       "      <th>$T$, К</th>\n",
       "      <th>$\\frac{1}{\\tau^2 - \\tau_0^2}$, $мкс^{-2}$</th>\n",
       "    </tr>\n",
       "  </thead>\n",
       "  <tbody>\n",
       "    <tr>\n",
       "      <th>1</th>\n",
       "      <td>289.10</td>\n",
       "      <td>0.030989</td>\n",
       "    </tr>\n",
       "    <tr>\n",
       "      <th>2</th>\n",
       "      <td>290.96</td>\n",
       "      <td>0.033910</td>\n",
       "    </tr>\n",
       "    <tr>\n",
       "      <th>3</th>\n",
       "      <td>292.97</td>\n",
       "      <td>0.042017</td>\n",
       "    </tr>\n",
       "    <tr>\n",
       "      <th>4</th>\n",
       "      <td>295.06</td>\n",
       "      <td>0.064809</td>\n",
       "    </tr>\n",
       "    <tr>\n",
       "      <th>5</th>\n",
       "      <td>297.11</td>\n",
       "      <td>0.108225</td>\n",
       "    </tr>\n",
       "    <tr>\n",
       "      <th>6</th>\n",
       "      <td>298.93</td>\n",
       "      <td>0.143266</td>\n",
       "    </tr>\n",
       "    <tr>\n",
       "      <th>7</th>\n",
       "      <td>300.94</td>\n",
       "      <td>0.183150</td>\n",
       "    </tr>\n",
       "    <tr>\n",
       "      <th>8</th>\n",
       "      <td>303.06</td>\n",
       "      <td>0.228311</td>\n",
       "    </tr>\n",
       "    <tr>\n",
       "      <th>9</th>\n",
       "      <td>304.88</td>\n",
       "      <td>0.257732</td>\n",
       "    </tr>\n",
       "    <tr>\n",
       "      <th>10</th>\n",
       "      <td>307.01</td>\n",
       "      <td>0.302115</td>\n",
       "    </tr>\n",
       "    <tr>\n",
       "      <th>11</th>\n",
       "      <td>308.90</td>\n",
       "      <td>0.334448</td>\n",
       "    </tr>\n",
       "    <tr>\n",
       "      <th>12</th>\n",
       "      <td>310.99</td>\n",
       "      <td>0.370370</td>\n",
       "    </tr>\n",
       "    <tr>\n",
       "      <th>13</th>\n",
       "      <td>313.51</td>\n",
       "      <td>0.403226</td>\n",
       "    </tr>\n",
       "  </tbody>\n",
       "</table>\n",
       "</div>"
      ],
      "text/plain": [
       "    $T$, К  $\\frac{1}{\\tau^2 - \\tau_0^2}$, $мкс^{-2}$\n",
       "1   289.10                                   0.030989\n",
       "2   290.96                                   0.033910\n",
       "3   292.97                                   0.042017\n",
       "4   295.06                                   0.064809\n",
       "5   297.11                                   0.108225\n",
       "6   298.93                                   0.143266\n",
       "7   300.94                                   0.183150\n",
       "8   303.06                                   0.228311\n",
       "9   304.88                                   0.257732\n",
       "10  307.01                                   0.302115\n",
       "11  308.90                                   0.334448\n",
       "12  310.99                                   0.370370\n",
       "13  313.51                                   0.403226"
      ]
     },
     "execution_count": 53,
     "metadata": {},
     "output_type": "execute_result"
    }
   ],
   "source": [
    "table3 = table2\n",
    "table3[r'$\\tau^2 - \\tau_0^2$, $мкс^2$'] = 1/table3[r'$\\tau^2 - \\tau_0^2$, $мкс^2$']\n",
    "table3.rename(columns={r'$\\tau^2 - \\tau_0^2$, $мкс^2$': r'$\\frac{1}{\\tau^2 - \\tau_0^2}$, $мкс^{-2}$'}, inplace=True)\n",
    "table3"
   ]
  },
  {
   "cell_type": "code",
   "execution_count": 37,
   "metadata": {
    "jupyter": {
     "source_hidden": true
    }
   },
   "outputs": [
    {
     "data": {
      "image/png": "[encoded data removed]",
      "text/plain": [
       "<Figure size 720x432 with 1 Axes>"
      ]
     },
     "metadata": {
      "needs_background": "light"
     },
     "output_type": "display_data"
    }
   ],
   "source": [
    "koef = chart(table3, r'График, качественно отражающий зависимость $\\chi(T)$', True, 4)"
   ]
  },
  {
   "cell_type": "code",
   "execution_count": 38,
   "metadata": {
    "jupyter": {
     "source_hidden": true
    }
   },
   "outputs": [
    {
     "name": "stdout",
     "output_type": "stream",
     "text": [
      "Парамагнитная точка Кюри:  290.94 ± 0.02 К\n"
     ]
    }
   ],
   "source": [
    "Tk = np.float64(-koef[1]/koef[0])\n",
    "Tk_err = np.float64(((koef[2]/koef[0])**2 + (koef[3]/koef[1])**2)**0.5).round(2)\n",
    "print('Парамагнитная точка Кюри: ', Tk.round(2), '±', Tk_err,'К')"
   ]
  },
  {
   "cell_type": "markdown",
   "metadata": {},
   "source": [
    "## Результаты и выводы"
   ]
  },
  {
   "cell_type": "markdown",
   "metadata": {},
   "source": [
    "Экмперимент показал справедливость закона Кюри-Вейса, чего стоит один только график (красивый). Также мы нашли точку Кюри для гадолиния и она в рамках погрешности совпадает с табличной ($\\approx$ 290 К).  \n",
    "Считаю Эксперимент проведён успешно!"
   ]
  }
 ],
 "metadata": {
  "kernelspec": {
   "display_name": "Python 3",
   "language": "python",
   "name": "python3"
  },
  "language_info": {
   "codemirror_mode": {
    "name": "ipython",
    "version": 3
   },
   "file_extension": ".py",
   "mimetype": "text/x-python",
   "name": "python",
   "nbconvert_exporter": "python",
   "pygments_lexer": "ipython3",
   "version": "3.7.3"
  }
 },
 "nbformat": 4,
 "nbformat_minor": 4
}

{
 "cells": [
  {
   "cell_type": "code",
   "execution_count": 49,
   "metadata": {},
   "outputs": [],
   "source": [
    "from math import pi\n",
    "import pandas as pd\n",
    "import matplotlib as mpl\n",
    "import matplotlib.pyplot as plt\n",
    "import numpy as np\n",
    "from scipy.interpolate import interp1d\n",
    "%matplotlib inline"
   ]
  },
  {
   "cell_type": "code",
   "execution_count": 50,
   "metadata": {},
   "outputs": [],
   "source": [
    "# Константы\n",
    "dT = np.float64(0.5) # градусов Цельсия\n",
    "k = np.float64(0.024) # град/мкВ\n",
    "t0 = np.float64(9.045) # мкс"
   ]
  },
  {
   "cell_type": "code",
   "execution_count": 51,
   "metadata": {},
   "outputs": [],
   "source": [
    "def open_csv(name):\n",
    "    file = pd.read_csv(name)\n",
    "    file = file.drop(0)\n",
    "    for col in file.columns:\n",
    "        file[col] = [i if type(i) != type('a') else float('.'.join(i.split(','))) for i in file[col]]\n",
    "        file[col] = [np.float64(i) for i in file[col]]\n",
    "    return file"
   ]
  },
  {
   "cell_type": "code",
   "execution_count": 93,
   "metadata": {},
   "outputs": [],
   "source": [
    "def chart(file, name = '', is_extr=False, ind_from = 0, ind_to = 10000, step = 1):\n",
    "    # Строим график\n",
    "    fig = plt.figure(figsize=(10, 6))  # (Размер графика)\n",
    "    plt.title(name, fontsize=16)\n",
    "    plt.grid(True)\n",
    "\n",
    "    plt.xlabel('Температура образца, К', fontdict=dict(size=12))\n",
    "    plt.ylabel(r'$\\tau^2 - \\tau_0^2$, $мкс^2$', fontdict=dict(size=12))\n",
    "    \n",
    "    x = np.array(file[file.columns[0]])  \n",
    "    y = np.array(file[file.columns[1]])\n",
    "    \n",
    "    if (is_extr): # если нужна экстраполяция\n",
    "        \n",
    "        x_for_extr = file[file.columns[0]][ind_from:ind_to:]\n",
    "        y_for_extr = file[file.columns[1]][ind_from:ind_to:]\n",
    "        # Прямая по МНК\n",
    "        A = np.vstack([x_for_extr, np.ones(len(x_for_extr))]).T\n",
    "        a, b = np.linalg.lstsq(A, y_for_extr, rcond=None)[0]\n",
    "        x_extr = np.linspace(0.97* x_for_extr.min(), x_for_extr.max(), 10)\n",
    "        # a - коэффициент наклона прямой, b - свободный член\n",
    "        plt.plot(x_extr, a*x_extr + b, 'r', label='Приближающая прямая')\n",
    "        \n",
    "    plt.plot(x,y)"
   ]
  },
  {
   "cell_type": "markdown",
   "metadata": {},
   "source": [
    "Оценим допустимую ЭДС образца по формуле $ \\mathscr{E} = \\frac{\\Delta T}{k}$"
   ]
  },
  {
   "cell_type": "code",
   "execution_count": 53,
   "metadata": {},
   "outputs": [
    {
     "name": "stdout",
     "output_type": "stream",
     "text": [
      "Допустимое ЭДС: 20.833 мкВ\n"
     ]
    }
   ],
   "source": [
    "E = np.float64(dT/k)\n",
    "print('Допустимое ЭДС:', E.round(3), 'мкВ')"
   ]
  },
  {
   "cell_type": "markdown",
   "metadata": {},
   "source": [
    "Исследуем зависимость периода колебаний генератора от температуры образца"
   ]
  },
  {
   "cell_type": "code",
   "execution_count": 54,
   "metadata": {},
   "outputs": [
    {
     "data": {
      "text/html": [
       "<div>\n",
       "<style scoped>\n",
       "    .dataframe tbody tr th:only-of-type {\n",
       "        vertical-align: middle;\n",
       "    }\n",
       "\n",
       "    .dataframe tbody tr th {\n",
       "        vertical-align: top;\n",
       "    }\n",
       "\n",
       "    .dataframe thead th {\n",
       "        text-align: right;\n",
       "    }\n",
       "</style>\n",
       "<table border=\"1\" class=\"dataframe\">\n",
       "  <thead>\n",
       "    <tr style=\"text-align: right;\">\n",
       "      <th></th>\n",
       "      <th>$T_0$, К</th>\n",
       "      <th>$U$, мкВ</th>\n",
       "      <th>$\\tau$, мкс</th>\n",
       "    </tr>\n",
       "  </thead>\n",
       "  <tbody>\n",
       "    <tr>\n",
       "      <th>1</th>\n",
       "      <td>289.24</td>\n",
       "      <td>6.0</td>\n",
       "      <td>10.681</td>\n",
       "    </tr>\n",
       "    <tr>\n",
       "      <th>2</th>\n",
       "      <td>291.20</td>\n",
       "      <td>10.0</td>\n",
       "      <td>10.550</td>\n",
       "    </tr>\n",
       "    <tr>\n",
       "      <th>3</th>\n",
       "      <td>293.21</td>\n",
       "      <td>10.0</td>\n",
       "      <td>10.277</td>\n",
       "    </tr>\n",
       "    <tr>\n",
       "      <th>4</th>\n",
       "      <td>295.23</td>\n",
       "      <td>7.0</td>\n",
       "      <td>9.861</td>\n",
       "    </tr>\n",
       "    <tr>\n",
       "      <th>5</th>\n",
       "      <td>297.25</td>\n",
       "      <td>6.0</td>\n",
       "      <td>9.542</td>\n",
       "    </tr>\n",
       "    <tr>\n",
       "      <th>6</th>\n",
       "      <td>299.19</td>\n",
       "      <td>11.0</td>\n",
       "      <td>9.423</td>\n",
       "    </tr>\n",
       "    <tr>\n",
       "      <th>7</th>\n",
       "      <td>301.20</td>\n",
       "      <td>11.0</td>\n",
       "      <td>9.342</td>\n",
       "    </tr>\n",
       "    <tr>\n",
       "      <th>8</th>\n",
       "      <td>303.23</td>\n",
       "      <td>7.0</td>\n",
       "      <td>9.284</td>\n",
       "    </tr>\n",
       "    <tr>\n",
       "      <th>9</th>\n",
       "      <td>305.17</td>\n",
       "      <td>12.0</td>\n",
       "      <td>9.257</td>\n",
       "    </tr>\n",
       "    <tr>\n",
       "      <th>10</th>\n",
       "      <td>307.23</td>\n",
       "      <td>9.0</td>\n",
       "      <td>9.226</td>\n",
       "    </tr>\n",
       "    <tr>\n",
       "      <th>11</th>\n",
       "      <td>309.19</td>\n",
       "      <td>12.0</td>\n",
       "      <td>9.209</td>\n",
       "    </tr>\n",
       "    <tr>\n",
       "      <th>12</th>\n",
       "      <td>311.23</td>\n",
       "      <td>10.0</td>\n",
       "      <td>9.193</td>\n",
       "    </tr>\n",
       "    <tr>\n",
       "      <th>13</th>\n",
       "      <td>313.75</td>\n",
       "      <td>10.0</td>\n",
       "      <td>9.181</td>\n",
       "    </tr>\n",
       "  </tbody>\n",
       "</table>\n",
       "</div>"
      ],
      "text/plain": [
       "    $T_0$, К  $U$, мкВ  $\\tau$, мкс\n",
       "1     289.24       6.0       10.681\n",
       "2     291.20      10.0       10.550\n",
       "3     293.21      10.0       10.277\n",
       "4     295.23       7.0        9.861\n",
       "5     297.25       6.0        9.542\n",
       "6     299.19      11.0        9.423\n",
       "7     301.20      11.0        9.342\n",
       "8     303.23       7.0        9.284\n",
       "9     305.17      12.0        9.257\n",
       "10    307.23       9.0        9.226\n",
       "11    309.19      12.0        9.209\n",
       "12    311.23      10.0        9.193\n",
       "13    313.75      10.0        9.181"
      ]
     },
     "execution_count": 54,
     "metadata": {},
     "output_type": "execute_result"
    }
   ],
   "source": [
    "table1 = open_csv('point.csv')\n",
    "table1[table1.columns[0]] = table1[table1.columns[0]] + 273.15\n",
    "table1"
   ]
  },
  {
   "cell_type": "markdown",
   "metadata": {},
   "source": [
    "Рассчитаем температуру образца $T$, учитывая показания термопары"
   ]
  },
  {
   "cell_type": "code",
   "execution_count": 55,
   "metadata": {},
   "outputs": [
    {
     "data": {
      "text/html": [
       "<div>\n",
       "<style scoped>\n",
       "    .dataframe tbody tr th:only-of-type {\n",
       "        vertical-align: middle;\n",
       "    }\n",
       "\n",
       "    .dataframe tbody tr th {\n",
       "        vertical-align: top;\n",
       "    }\n",
       "\n",
       "    .dataframe thead th {\n",
       "        text-align: right;\n",
       "    }\n",
       "</style>\n",
       "<table border=\"1\" class=\"dataframe\">\n",
       "  <thead>\n",
       "    <tr style=\"text-align: right;\">\n",
       "      <th></th>\n",
       "      <th>$T$, К</th>\n",
       "      <th>$\\tau^2 - \\tau_0^2$, $мкс^2$</th>\n",
       "    </tr>\n",
       "  </thead>\n",
       "  <tbody>\n",
       "    <tr>\n",
       "      <th>1</th>\n",
       "      <td>289.10</td>\n",
       "      <td>32.27</td>\n",
       "    </tr>\n",
       "    <tr>\n",
       "      <th>2</th>\n",
       "      <td>290.96</td>\n",
       "      <td>29.49</td>\n",
       "    </tr>\n",
       "    <tr>\n",
       "      <th>3</th>\n",
       "      <td>292.97</td>\n",
       "      <td>23.80</td>\n",
       "    </tr>\n",
       "    <tr>\n",
       "      <th>4</th>\n",
       "      <td>295.06</td>\n",
       "      <td>15.43</td>\n",
       "    </tr>\n",
       "    <tr>\n",
       "      <th>5</th>\n",
       "      <td>297.11</td>\n",
       "      <td>9.24</td>\n",
       "    </tr>\n",
       "    <tr>\n",
       "      <th>6</th>\n",
       "      <td>298.93</td>\n",
       "      <td>6.98</td>\n",
       "    </tr>\n",
       "    <tr>\n",
       "      <th>7</th>\n",
       "      <td>300.94</td>\n",
       "      <td>5.46</td>\n",
       "    </tr>\n",
       "    <tr>\n",
       "      <th>8</th>\n",
       "      <td>303.06</td>\n",
       "      <td>4.38</td>\n",
       "    </tr>\n",
       "    <tr>\n",
       "      <th>9</th>\n",
       "      <td>304.88</td>\n",
       "      <td>3.88</td>\n",
       "    </tr>\n",
       "    <tr>\n",
       "      <th>10</th>\n",
       "      <td>307.01</td>\n",
       "      <td>3.31</td>\n",
       "    </tr>\n",
       "    <tr>\n",
       "      <th>11</th>\n",
       "      <td>308.90</td>\n",
       "      <td>2.99</td>\n",
       "    </tr>\n",
       "    <tr>\n",
       "      <th>12</th>\n",
       "      <td>310.99</td>\n",
       "      <td>2.70</td>\n",
       "    </tr>\n",
       "    <tr>\n",
       "      <th>13</th>\n",
       "      <td>313.51</td>\n",
       "      <td>2.48</td>\n",
       "    </tr>\n",
       "  </tbody>\n",
       "</table>\n",
       "</div>"
      ],
      "text/plain": [
       "    $T$, К  $\\tau^2 - \\tau_0^2$, $мкс^2$\n",
       "1   289.10                         32.27\n",
       "2   290.96                         29.49\n",
       "3   292.97                         23.80\n",
       "4   295.06                         15.43\n",
       "5   297.11                          9.24\n",
       "6   298.93                          6.98\n",
       "7   300.94                          5.46\n",
       "8   303.06                          4.38\n",
       "9   304.88                          3.88\n",
       "10  307.01                          3.31\n",
       "11  308.90                          2.99\n",
       "12  310.99                          2.70\n",
       "13  313.51                          2.48"
      ]
     },
     "execution_count": 55,
     "metadata": {},
     "output_type": "execute_result"
    }
   ],
   "source": [
    "table1['$T$, К'] = [np.float64(x - y * k).round(2) for x, y in zip(table1['$T_0$, К'], table1['$U$, мкВ'])]\n",
    "table1[r'$\\tau^2 - \\tau_0^2$, мкс'] = [np.float64(x**2 - t0**2).round(2) for x in table1[table1.columns[2]]]\n",
    "table2 = pd.DataFrame({'$T$, К': table1['$T$, К'], r'$\\tau^2 - \\tau_0^2$, $мкс^2$': table1[r'$\\tau^2 - \\tau_0^2$, мкс']})\n",
    "table2"
   ]
  },
  {
   "cell_type": "code",
   "execution_count": 90,
   "metadata": {},
   "outputs": [
    {
     "data": {
      "image/png": "[encoded data removed]",
      "text/plain": [
       "<Figure size 720x432 with 1 Axes>"
      ]
     },
     "metadata": {
      "needs_background": "light"
     },
     "output_type": "display_data"
    }
   ],
   "source": [
    "chart(table2, 'График')"
   ]
  },
  {
   "cell_type": "code",
   "execution_count": 57,
   "metadata": {},
   "outputs": [
    {
     "data": {
      "text/html": [
       "<div>\n",
       "<style scoped>\n",
       "    .dataframe tbody tr th:only-of-type {\n",
       "        vertical-align: middle;\n",
       "    }\n",
       "\n",
       "    .dataframe tbody tr th {\n",
       "        vertical-align: top;\n",
       "    }\n",
       "\n",
       "    .dataframe thead th {\n",
       "        text-align: right;\n",
       "    }\n",
       "</style>\n",
       "<table border=\"1\" class=\"dataframe\">\n",
       "  <thead>\n",
       "    <tr style=\"text-align: right;\">\n",
       "      <th></th>\n",
       "      <th>$T$, К</th>\n",
       "      <th>$\\frac{1}{\\tau^2 - \\tau_0^2}$, $мкс^{-2}$</th>\n",
       "    </tr>\n",
       "  </thead>\n",
       "  <tbody>\n",
       "    <tr>\n",
       "      <th>1</th>\n",
       "      <td>289.10</td>\n",
       "      <td>0.030989</td>\n",
       "    </tr>\n",
       "    <tr>\n",
       "      <th>2</th>\n",
       "      <td>290.96</td>\n",
       "      <td>0.033910</td>\n",
       "    </tr>\n",
       "    <tr>\n",
       "      <th>3</th>\n",
       "      <td>292.97</td>\n",
       "      <td>0.042017</td>\n",
       "    </tr>\n",
       "    <tr>\n",
       "      <th>4</th>\n",
       "      <td>295.06</td>\n",
       "      <td>0.064809</td>\n",
       "    </tr>\n",
       "    <tr>\n",
       "      <th>5</th>\n",
       "      <td>297.11</td>\n",
       "      <td>0.108225</td>\n",
       "    </tr>\n",
       "    <tr>\n",
       "      <th>6</th>\n",
       "      <td>298.93</td>\n",
       "      <td>0.143266</td>\n",
       "    </tr>\n",
       "    <tr>\n",
       "      <th>7</th>\n",
       "      <td>300.94</td>\n",
       "      <td>0.183150</td>\n",
       "    </tr>\n",
       "    <tr>\n",
       "      <th>8</th>\n",
       "      <td>303.06</td>\n",
       "      <td>0.228311</td>\n",
       "    </tr>\n",
       "    <tr>\n",
       "      <th>9</th>\n",
       "      <td>304.88</td>\n",
       "      <td>0.257732</td>\n",
       "    </tr>\n",
       "    <tr>\n",
       "      <th>10</th>\n",
       "      <td>307.01</td>\n",
       "      <td>0.302115</td>\n",
       "    </tr>\n",
       "    <tr>\n",
       "      <th>11</th>\n",
       "      <td>308.90</td>\n",
       "      <td>0.334448</td>\n",
       "    </tr>\n",
       "    <tr>\n",
       "      <th>12</th>\n",
       "      <td>310.99</td>\n",
       "      <td>0.370370</td>\n",
       "    </tr>\n",
       "    <tr>\n",
       "      <th>13</th>\n",
       "      <td>313.51</td>\n",
       "      <td>0.403226</td>\n",
       "    </tr>\n",
       "  </tbody>\n",
       "</table>\n",
       "</div>"
      ],
      "text/plain": [
       "    $T$, К  $\\frac{1}{\\tau^2 - \\tau_0^2}$, $мкс^{-2}$\n",
       "1   289.10                                   0.030989\n",
       "2   290.96                                   0.033910\n",
       "3   292.97                                   0.042017\n",
       "4   295.06                                   0.064809\n",
       "5   297.11                                   0.108225\n",
       "6   298.93                                   0.143266\n",
       "7   300.94                                   0.183150\n",
       "8   303.06                                   0.228311\n",
       "9   304.88                                   0.257732\n",
       "10  307.01                                   0.302115\n",
       "11  308.90                                   0.334448\n",
       "12  310.99                                   0.370370\n",
       "13  313.51                                   0.403226"
      ]
     },
     "execution_count": 57,
     "metadata": {},
     "output_type": "execute_result"
    }
   ],
   "source": [
    "table3 = table2\n",
    "table3[r'$\\tau^2 - \\tau_0^2$, $мкс^2$'] = 1/table3[r'$\\tau^2 - \\tau_0^2$, $мкс^2$']\n",
    "table3.rename(columns={r'$\\tau^2 - \\tau_0^2$, $мкс^2$': r'$\\frac{1}{\\tau^2 - \\tau_0^2}$, $мкс^{-2}$'}, inplace=True)\n",
    "table3"
   ]
  },
  {
   "cell_type": "code",
   "execution_count": 94,
   "metadata": {},
   "outputs": [
    {
     "data": {
      "image/png": "[encoded data removed]",
      "text/plain": [
       "<Figure size 720x432 with 1 Axes>"
      ]
     },
     "metadata": {
      "needs_background": "light"
     },
     "output_type": "display_data"
    }
   ],
   "source": [
    "chart(table3, 'График', True, 4)"
   ]
  },
  {
   "cell_type": "code",
   "execution_count": null,
   "metadata": {},
   "outputs": [],
   "source": []
  }
 ],
 "metadata": {
  "kernelspec": {
   "display_name": "Python 3",
   "language": "python",
   "name": "python3"
  },
  "language_info": {
   "codemirror_mode": {
    "name": "ipython",
    "version": 3
   },
   "file_extension": ".py",
   "mimetype": "text/x-python",
   "name": "python",
   "nbconvert_exporter": "python",
   "pygments_lexer": "ipython3",
   "version": "3.7.1"
  }
 },
 "nbformat": 4,
 "nbformat_minor": 4
}
